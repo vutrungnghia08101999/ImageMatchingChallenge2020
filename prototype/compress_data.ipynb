{
 "cells": [
  {
   "cell_type": "code",
   "execution_count": 9,
   "metadata": {},
   "outputs": [],
   "source": [
    "import argparse\n",
    "import logging\n",
    "import os\n",
    "import numpy as np\n",
    "from PIL import Image\n",
    "import random\n",
    "from tqdm import tqdm\n",
    "\n",
    "import torch\n",
    "\n",
    "logging.basicConfig(level=logging.INFO)"
   ]
  },
  {
   "cell_type": "code",
   "execution_count": 16,
   "metadata": {},
   "outputs": [],
   "source": [
    "parser = argparse.ArgumentParser(description='PyTorch HardNet')\n",
    "parser.add_argument('--gpu-id', default='3', type=str)\n",
    "parser.add_argument('--no-cuda', action='store_true', default=False)\n",
    "parser.add_argument('--seed', type=int, default=0)\n",
    "parser.add_argument('--data-dir', type=str)\n",
    "parser.add_argument('--data-file', type=str)\n",
    "parser.add_argument('--image-extension', type=str)\n",
    "parser.add_argument('--n-patches', type=int)\n",
    "parser.add_argument('--info-file', type=str)\n",
    "parser.add_argument('--matches-files', type=str)\n",
    "\n",
    "args = parser.parse_args([\n",
    "    '--data-dir', 'data/liberty',\n",
    "    '--info-file', 'info.txt',\n",
    "    '--matches-files', 'm50_100000_100000_0.txt',\n",
    "    '--image-extension', 'bmp',\n",
    "    '--n-patches', '450092',\n",
    "\n",
    "    '--data-file', 'liberty.pt'])"
   ]
  },
  {
   "cell_type": "code",
   "execution_count": 17,
   "metadata": {},
   "outputs": [
    {
     "name": "stderr",
     "output_type": "stream",
     "text": [
      "INFO:root:Using cuda\n"
     ]
    }
   ],
   "source": [
    "gpu_id = 3\n",
    "\n",
    "os.environ['CUDA_VISIBLE_DEVICES'] = args.gpu_id\n",
    "\n",
    "args.cuda = not args.no_cuda and torch.cuda.is_available()\n",
    "\n",
    "logging.info((\"NOT \" if not args.cuda else \"\") + \"Using cuda\")\n",
    "\n",
    "# set random seeds\n",
    "random.seed(args.seed)\n",
    "torch.manual_seed(args.seed)\n",
    "np.random.seed(args.seed)"
   ]
  },
  {
   "cell_type": "code",
   "execution_count": 18,
   "metadata": {},
   "outputs": [],
   "source": [
    "def read_image_file(data_dir, image_ext, n):\n",
    "    \"\"\"Return a Tensor containing the patches\n",
    "    \"\"\"\n",
    "\n",
    "    def PIL2array(_img):\n",
    "        \"\"\"Convert PIL image type to numpy 2D array\n",
    "        \"\"\"\n",
    "        return np.array(_img.getdata(), dtype=np.uint8).reshape(64, 64)\n",
    "\n",
    "    def find_files(_data_dir, _image_ext):\n",
    "        \"\"\"Return a list with the file names of the images containing the patches\n",
    "        \"\"\"\n",
    "        files = []\n",
    "        # find those files with the specified extension\n",
    "        for file_dir in os.listdir(_data_dir):\n",
    "            if file_dir.endswith(_image_ext):\n",
    "                files.append(os.path.join(_data_dir, file_dir))\n",
    "        return sorted(files)  # sort files in ascend order to keep relations\n",
    "\n",
    "    patches = []\n",
    "    list_files = find_files(data_dir, image_ext)\n",
    "\n",
    "    for fpath in tqdm(list_files):\n",
    "        img = Image.open(fpath)\n",
    "        for y in range(0, 1024, 64):\n",
    "            for x in range(0, 1024, 64):\n",
    "                patch = img.crop((x, y, x + 64, y + 64))\n",
    "                patches.append(PIL2array(patch))\n",
    "    return torch.ByteTensor(np.array(patches[:n]))\n",
    "\n",
    "\n",
    "def read_info_file(data_dir, info_file):\n",
    "    \"\"\"Return a Tensor containing the list of labels\n",
    "       Read the file and keep only the ID of the 3D point.\n",
    "    \"\"\"\n",
    "    labels = []\n",
    "    with open(os.path.join(data_dir, info_file), 'r') as f:\n",
    "        labels = [int(line.split()[0]) for line in f]\n",
    "    return torch.LongTensor(labels)\n",
    "\n",
    "\n",
    "def read_matches_files(data_dir, matches_file):\n",
    "    \"\"\"Return a Tensor containing the ground truth matches\n",
    "       Read the file and keep only 3D point ID.\n",
    "       Matches are represented with a 1, non matches with a 0.\n",
    "    \"\"\"\n",
    "    matches = []\n",
    "    with open(os.path.join(data_dir, matches_file), 'r') as f:\n",
    "        for line in f:\n",
    "            line_split = line.split()\n",
    "            matches.append([int(line_split[0]), int(line_split[3]),\n",
    "                            int(line_split[1] == line_split[4])])\n",
    "    return torch.LongTensor(matches)"
   ]
  },
  {
   "cell_type": "code",
   "execution_count": null,
   "metadata": {},
   "outputs": [
    {
     "name": "stderr",
     "output_type": "stream",
     "text": [
      " 58%|█████▊    | 1018/1759 [10:21<07:01,  1.76it/s]"
     ]
    }
   ],
   "source": [
    "dataset = (\n",
    "    read_image_file(args.data_dir, args.image_extension, args.n_patches),\n",
    "    read_info_file(args.data_dir, args.info_file),\n",
    "    read_matches_files(args.data_dir, args.matches_files)\n",
    ")"
   ]
  },
  {
   "cell_type": "code",
   "execution_count": null,
   "metadata": {},
   "outputs": [],
   "source": [
    "with open(data_file, 'wb') as f:\n",
    "    torch.save(dataset, f)"
   ]
  },
  {
   "cell_type": "code",
   "execution_count": null,
   "metadata": {},
   "outputs": [],
   "source": []
  }
 ],
 "metadata": {
  "kernelspec": {
   "display_name": "Python 3",
   "language": "python",
   "name": "python3"
  },
  "language_info": {
   "codemirror_mode": {
    "name": "ipython",
    "version": 3
   },
   "file_extension": ".py",
   "mimetype": "text/x-python",
   "name": "python",
   "nbconvert_exporter": "python",
   "pygments_lexer": "ipython3",
   "version": "3.6.10"
  }
 },
 "nbformat": 4,
 "nbformat_minor": 4
}
